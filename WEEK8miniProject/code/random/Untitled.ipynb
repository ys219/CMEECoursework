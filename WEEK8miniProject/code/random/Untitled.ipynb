{
 "cells": [
  {
   "cell_type": "markdown",
   "metadata": {},
   "source": [
    "# Data exploration for thermal response data"
   ]
  },
  {
   "cell_type": "markdown",
   "metadata": {},
   "source": [
    "load the data"
   ]
  },
  {
   "cell_type": "code",
   "execution_count": 1,
   "metadata": {},
   "outputs": [],
   "source": [
    "thermo_data = read.csv(\"../data//ThermRespData.csv\") # read data"
   ]
  },
  {
   "cell_type": "markdown",
   "metadata": {},
   "source": [
    "check the head of data"
   ]
  },
  {
   "cell_type": "code",
   "execution_count": 2,
   "metadata": {},
   "outputs": [
    {
     "data": {
      "text/html": [
       "<table>\n",
       "<caption>A data.frame: 6 × 78</caption>\n",
       "<thead>\n",
       "\t<tr><th scope=col>Input</th><th scope=col>ID</th><th scope=col>OrignalTraitName</th><th scope=col>OriginalTraitDef</th><th scope=col>StandardisedTraitName</th><th scope=col>StandardisedTraitDef</th><th scope=col>OriginalTraitValue</th><th scope=col>OriginalTraitUnit</th><th scope=col>OriginalErrorPos</th><th scope=col>OriginalErrorNeg</th><th scope=col>⋯</th><th scope=col>AcclimVarTempUnit</th><th scope=col>AcclimVarTempDur</th><th scope=col>AcclimVarTempDurUnit</th><th scope=col>LabGrowthTemp</th><th scope=col>LabGrowthTempUnit</th><th scope=col>LabGrowthDur</th><th scope=col>LabGrowthDurUnit</th><th scope=col>Citation</th><th scope=col>FigureTable</th><th scope=col>Notes</th></tr>\n",
       "\t<tr><th scope=col>&lt;fct&gt;</th><th scope=col>&lt;int&gt;</th><th scope=col>&lt;fct&gt;</th><th scope=col>&lt;lgl&gt;</th><th scope=col>&lt;fct&gt;</th><th scope=col>&lt;lgl&gt;</th><th scope=col>&lt;dbl&gt;</th><th scope=col>&lt;fct&gt;</th><th scope=col>&lt;fct&gt;</th><th scope=col>&lt;fct&gt;</th><th scope=col>⋯</th><th scope=col>&lt;fct&gt;</th><th scope=col>&lt;dbl&gt;</th><th scope=col>&lt;fct&gt;</th><th scope=col>&lt;fct&gt;</th><th scope=col>&lt;fct&gt;</th><th scope=col>&lt;dbl&gt;</th><th scope=col>&lt;fct&gt;</th><th scope=col>&lt;fct&gt;</th><th scope=col>&lt;fct&gt;</th><th scope=col>&lt;fct&gt;</th></tr>\n",
       "</thead>\n",
       "<tbody>\n",
       "\t<tr><td>Richard</td><td>1</td><td>photosynthetic co2 assimilation</td><td>NA</td><td>net photosynthesis rate</td><td>NA</td><td> 9.876141</td><td>micromol m^-2 s^-1</td><td>NA</td><td>NA</td><td>⋯</td><td>NA</td><td>NA</td><td>NA</td><td>19</td><td>Celsius</td><td>NA</td><td>NA</td><td>Sharkey, T. D., &amp; Loreto, F. (1993). Water stress, temperature, and light effects on the capacity for isoprene emission and photosynthesis of kudzu leaves. Oecologia, 95(3), 328-333. doi:10.1007/BF00320984</td><td>3</td><td>leaves 2 weeks past full extension</td></tr>\n",
       "\t<tr><td>Richard</td><td>1</td><td>photosynthetic co2 assimilation</td><td>NA</td><td>net photosynthesis rate</td><td>NA</td><td>11.743801</td><td>micromol m^-2 s^-1</td><td>NA</td><td>NA</td><td>⋯</td><td>NA</td><td>NA</td><td>NA</td><td>19</td><td>Celsius</td><td>NA</td><td>NA</td><td>Sharkey, T. D., &amp; Loreto, F. (1993). Water stress, temperature, and light effects on the capacity for isoprene emission and photosynthesis of kudzu leaves. Oecologia, 95(3), 328-333. doi:10.1007/BF00320984</td><td>3</td><td>leaves 2 weeks past full extension</td></tr>\n",
       "\t<tr><td>Richard</td><td>1</td><td>photosynthetic co2 assimilation</td><td>NA</td><td>net photosynthesis rate</td><td>NA</td><td>10.582731</td><td>micromol m^-2 s^-1</td><td>NA</td><td>NA</td><td>⋯</td><td>NA</td><td>NA</td><td>NA</td><td>19</td><td>Celsius</td><td>NA</td><td>NA</td><td>Sharkey, T. D., &amp; Loreto, F. (1993). Water stress, temperature, and light effects on the capacity for isoprene emission and photosynthesis of kudzu leaves. Oecologia, 95(3), 328-333. doi:10.1007/BF00320984</td><td>3</td><td>leaves 2 weeks past full extension</td></tr>\n",
       "\t<tr><td>Richard</td><td>1</td><td>photosynthetic co2 assimilation</td><td>NA</td><td>net photosynthesis rate</td><td>NA</td><td> 6.508309</td><td>micromol m^-2 s^-1</td><td>NA</td><td>NA</td><td>⋯</td><td>NA</td><td>NA</td><td>NA</td><td>19</td><td>Celsius</td><td>NA</td><td>NA</td><td>Sharkey, T. D., &amp; Loreto, F. (1993). Water stress, temperature, and light effects on the capacity for isoprene emission and photosynthesis of kudzu leaves. Oecologia, 95(3), 328-333. doi:10.1007/BF00320984</td><td>3</td><td>leaves 2 weeks past full extension</td></tr>\n",
       "\t<tr><td>Richard</td><td>1</td><td>photosynthetic co2 assimilation</td><td>NA</td><td>net photosynthesis rate</td><td>NA</td><td> 2.664421</td><td>micromol m^-2 s^-1</td><td>NA</td><td>NA</td><td>⋯</td><td>NA</td><td>NA</td><td>NA</td><td>19</td><td>Celsius</td><td>NA</td><td>NA</td><td>Sharkey, T. D., &amp; Loreto, F. (1993). Water stress, temperature, and light effects on the capacity for isoprene emission and photosynthesis of kudzu leaves. Oecologia, 95(3), 328-333. doi:10.1007/BF00320984</td><td>3</td><td>leaves 2 weeks past full extension</td></tr>\n",
       "\t<tr><td>Richard</td><td>2</td><td>photosynthetic co2 assimilation</td><td>NA</td><td>net photosynthesis rate</td><td>NA</td><td>11.203013</td><td>micromol m^-2 s^-1</td><td>NA</td><td>NA</td><td>⋯</td><td>NA</td><td>NA</td><td>NA</td><td>19</td><td>Celsius</td><td>NA</td><td>NA</td><td>Sharkey, T. D., &amp; Loreto, F. (1993). Water stress, temperature, and light effects on the capacity for isoprene emission and photosynthesis of kudzu leaves. Oecologia, 95(3), 328-333. doi:10.1007/BF00320984</td><td>3</td><td>leaves 2 weeks past full extension</td></tr>\n",
       "</tbody>\n",
       "</table>\n"
      ],
      "text/latex": [
       "A data.frame: 6 × 78\n",
       "\\begin{tabular}{r|llllllllllllllllllllllllllllllllllllllllllllllllllllllllllllllllllllllllllllll}\n",
       " Input & ID & OrignalTraitName & OriginalTraitDef & StandardisedTraitName & StandardisedTraitDef & OriginalTraitValue & OriginalTraitUnit & OriginalErrorPos & OriginalErrorNeg & OriginalErrorUnit & StandardisedTraitValue & StandardisedTraitUnit & StandardisedErrorPos & StandardisedErrorNeg & StandardisedErrorUnit & Replicates & Consumer & ConCommon & Habitat & Location & LocationType & LocationDate & CoordinateType & Latitude & Longitude & ConThermy & ConStage & ConSize & ConSizeUnit & ConSizeType & ConDenValue & ConDenUnit & ConTemp & ConTempUnit & ConTempMethod & Labfield & Labtemp & Labtempunit & Labtime & Labtimeunit & ArenaValue & ArenaUnit & AmbientTemp & AmbientTempUnit & AmbientLight & AmbientLightUnit & Resource & ResCommon & ResStage & ResThermy & ResTemp & ResTempMethod & ResSize & ResSizeUnit & ResDenValue & ResDenUnit & ResRepValue & ResRepUnit & ObsTimeValue & ObsTimeUnit & EquilibTimeValue & EquilibTimeUnit & AcclimFixTemp & AcclimFixTempUnit & AcclimFixTempDur & AcclimFixTempDurUnit & AcclimVarTemp & AcclimVarTempUnit & AcclimVarTempDur & AcclimVarTempDurUnit & LabGrowthTemp & LabGrowthTempUnit & LabGrowthDur & LabGrowthDurUnit & Citation & FigureTable & Notes\\\\\n",
       " <fct> & <int> & <fct> & <lgl> & <fct> & <lgl> & <dbl> & <fct> & <fct> & <fct> & <fct> & <dbl> & <fct> & <lgl> & <int> & <int> & <fct> & <fct> & <lgl> & <fct> & <fct> & <fct> & <fct> & <fct> & <dbl> & <dbl> & <lgl> & <fct> & <dbl> & <fct> & <fct> & <lgl> & <dbl> & <dbl> & <fct> & <fct> & <fct> & <fct> & <fct> & <dbl> & <fct> & <fct> & <fct> & <dbl> & <fct> & <fct> & <fct> & <fct> & <lgl> & <lgl> & <lgl> & <lgl> & <lgl> & <lgl> & <lgl> & <fct> & <fct> & <int> & <fct> & <fct> & <fct> & <dbl> & <fct> & <fct> & <fct> & <dbl> & <fct> & <dbl> & <fct> & <dbl> & <fct> & <fct> & <fct> & <dbl> & <fct> & <fct> & <fct> & <fct>\\\\\n",
       "\\hline\n",
       "\t Richard & 1 & photosynthetic co2 assimilation & NA & net photosynthesis rate & NA &  9.876141 & micromol m\\textasciicircum{}-2 s\\textasciicircum{}-1 & NA & NA & NA & 9.88e-06 & mol co2 m\\textasciicircum{}-2 s\\textasciicircum{}-1 & NA & NA & NA & 4 & pueraria lobata & NA & terrestrial & maryland, usa & organism & NA & Gazetteer & 39.04575 & -76.64127 & NA & leaf: 2 weeks past full extension & NA & NA & NA & NA & NA & 20 & celsius & direct & lab & 19 & Celsius & NA & NA & NA & NA & NA & NA & 1000 & micromol photons m\\textasciicircum{}-2 s\\textasciicircum{}-1 & carbon dioxide & NA & NA & NA & NA & NA & NA & NA & 5 & \\% & NA & NA & NA & NA & NA & NA & NA & NA & NA & NA & NA & NA & NA & NA & 19 & Celsius & NA & NA & Sharkey, T. D., \\& Loreto, F. (1993). Water stress, temperature, and light effects on the capacity for isoprene emission and photosynthesis of kudzu leaves. Oecologia, 95(3), 328-333. doi:10.1007/BF00320984 & 3 & leaves 2 weeks past full extension\\\\\n",
       "\t Richard & 1 & photosynthetic co2 assimilation & NA & net photosynthesis rate & NA & 11.743801 & micromol m\\textasciicircum{}-2 s\\textasciicircum{}-1 & NA & NA & NA & 9.88e-06 & mol co2 m\\textasciicircum{}-2 s\\textasciicircum{}-1 & NA & NA & NA & 4 & pueraria lobata & NA & terrestrial & maryland, usa & organism & NA & Gazetteer & 39.04575 & -76.64127 & NA & leaf: 2 weeks past full extension & NA & NA & NA & NA & NA & 25 & celsius & direct & lab & 19 & Celsius & NA & NA & NA & NA & NA & NA & 1000 & micromol photons m\\textasciicircum{}-2 s\\textasciicircum{}-1 & carbon dioxide & NA & NA & NA & NA & NA & NA & NA & 5 & \\% & NA & NA & NA & NA & NA & NA & NA & NA & NA & NA & NA & NA & NA & NA & 19 & Celsius & NA & NA & Sharkey, T. D., \\& Loreto, F. (1993). Water stress, temperature, and light effects on the capacity for isoprene emission and photosynthesis of kudzu leaves. Oecologia, 95(3), 328-333. doi:10.1007/BF00320984 & 3 & leaves 2 weeks past full extension\\\\\n",
       "\t Richard & 1 & photosynthetic co2 assimilation & NA & net photosynthesis rate & NA & 10.582731 & micromol m\\textasciicircum{}-2 s\\textasciicircum{}-1 & NA & NA & NA & 9.88e-06 & mol co2 m\\textasciicircum{}-2 s\\textasciicircum{}-1 & NA & NA & NA & 4 & pueraria lobata & NA & terrestrial & maryland, usa & organism & NA & Gazetteer & 39.04575 & -76.64127 & NA & leaf: 2 weeks past full extension & NA & NA & NA & NA & NA & 30 & celsius & direct & lab & 19 & Celsius & NA & NA & NA & NA & NA & NA & 1000 & micromol photons m\\textasciicircum{}-2 s\\textasciicircum{}-1 & carbon dioxide & NA & NA & NA & NA & NA & NA & NA & 5 & \\% & NA & NA & NA & NA & NA & NA & NA & NA & NA & NA & NA & NA & NA & NA & 19 & Celsius & NA & NA & Sharkey, T. D., \\& Loreto, F. (1993). Water stress, temperature, and light effects on the capacity for isoprene emission and photosynthesis of kudzu leaves. Oecologia, 95(3), 328-333. doi:10.1007/BF00320984 & 3 & leaves 2 weeks past full extension\\\\\n",
       "\t Richard & 1 & photosynthetic co2 assimilation & NA & net photosynthesis rate & NA &  6.508309 & micromol m\\textasciicircum{}-2 s\\textasciicircum{}-1 & NA & NA & NA & 9.88e-06 & mol co2 m\\textasciicircum{}-2 s\\textasciicircum{}-1 & NA & NA & NA & 4 & pueraria lobata & NA & terrestrial & maryland, usa & organism & NA & Gazetteer & 39.04575 & -76.64127 & NA & leaf: 2 weeks past full extension & NA & NA & NA & NA & NA & 35 & celsius & direct & lab & 19 & Celsius & NA & NA & NA & NA & NA & NA & 1000 & micromol photons m\\textasciicircum{}-2 s\\textasciicircum{}-1 & carbon dioxide & NA & NA & NA & NA & NA & NA & NA & 5 & \\% & NA & NA & NA & NA & NA & NA & NA & NA & NA & NA & NA & NA & NA & NA & 19 & Celsius & NA & NA & Sharkey, T. D., \\& Loreto, F. (1993). Water stress, temperature, and light effects on the capacity for isoprene emission and photosynthesis of kudzu leaves. Oecologia, 95(3), 328-333. doi:10.1007/BF00320984 & 3 & leaves 2 weeks past full extension\\\\\n",
       "\t Richard & 1 & photosynthetic co2 assimilation & NA & net photosynthesis rate & NA &  2.664421 & micromol m\\textasciicircum{}-2 s\\textasciicircum{}-1 & NA & NA & NA & 9.88e-06 & mol co2 m\\textasciicircum{}-2 s\\textasciicircum{}-1 & NA & NA & NA & 4 & pueraria lobata & NA & terrestrial & maryland, usa & organism & NA & Gazetteer & 39.04575 & -76.64127 & NA & leaf: 2 weeks past full extension & NA & NA & NA & NA & NA & 40 & celsius & direct & lab & 19 & Celsius & NA & NA & NA & NA & NA & NA & 1000 & micromol photons m\\textasciicircum{}-2 s\\textasciicircum{}-1 & carbon dioxide & NA & NA & NA & NA & NA & NA & NA & 5 & \\% & NA & NA & NA & NA & NA & NA & NA & NA & NA & NA & NA & NA & NA & NA & 19 & Celsius & NA & NA & Sharkey, T. D., \\& Loreto, F. (1993). Water stress, temperature, and light effects on the capacity for isoprene emission and photosynthesis of kudzu leaves. Oecologia, 95(3), 328-333. doi:10.1007/BF00320984 & 3 & leaves 2 weeks past full extension\\\\\n",
       "\t Richard & 2 & photosynthetic co2 assimilation & NA & net photosynthesis rate & NA & 11.203013 & micromol m\\textasciicircum{}-2 s\\textasciicircum{}-1 & NA & NA & NA & 1.12e-05 & mol co2 m\\textasciicircum{}-2 s\\textasciicircum{}-1 & NA & NA & NA & 4 & pueraria lobata & NA & terrestrial & maryland, usa & organism & NA & Gazetteer & 39.04575 & -76.64127 & NA & leaf: 2 weeks past full extension & NA & NA & NA & NA & NA & 20 & celsius & direct & lab & 19 & Celsius & NA & NA & NA & NA & NA & NA & 1600 & micromol photons m\\textasciicircum{}-2 s\\textasciicircum{}-1 & carbon dioxide & NA & NA & NA & NA & NA & NA & NA & 5 & \\% & NA & NA & NA & NA & NA & NA & NA & NA & NA & NA & NA & NA & NA & NA & 19 & Celsius & NA & NA & Sharkey, T. D., \\& Loreto, F. (1993). Water stress, temperature, and light effects on the capacity for isoprene emission and photosynthesis of kudzu leaves. Oecologia, 95(3), 328-333. doi:10.1007/BF00320984 & 3 & leaves 2 weeks past full extension\\\\\n",
       "\\end{tabular}\n"
      ],
      "text/markdown": [
       "\n",
       "A data.frame: 6 × 78\n",
       "\n",
       "| Input &lt;fct&gt; | ID &lt;int&gt; | OrignalTraitName &lt;fct&gt; | OriginalTraitDef &lt;lgl&gt; | StandardisedTraitName &lt;fct&gt; | StandardisedTraitDef &lt;lgl&gt; | OriginalTraitValue &lt;dbl&gt; | OriginalTraitUnit &lt;fct&gt; | OriginalErrorPos &lt;fct&gt; | OriginalErrorNeg &lt;fct&gt; | ⋯ ⋯ | AcclimVarTempUnit &lt;fct&gt; | AcclimVarTempDur &lt;dbl&gt; | AcclimVarTempDurUnit &lt;fct&gt; | LabGrowthTemp &lt;fct&gt; | LabGrowthTempUnit &lt;fct&gt; | LabGrowthDur &lt;dbl&gt; | LabGrowthDurUnit &lt;fct&gt; | Citation &lt;fct&gt; | FigureTable &lt;fct&gt; | Notes &lt;fct&gt; |\n",
       "|---|---|---|---|---|---|---|---|---|---|---|---|---|---|---|---|---|---|---|---|---|\n",
       "| Richard | 1 | photosynthetic co2 assimilation | NA | net photosynthesis rate | NA |  9.876141 | micromol m^-2 s^-1 | NA | NA | ⋯ | NA | NA | NA | 19 | Celsius | NA | NA | Sharkey, T. D., &amp; Loreto, F. (1993). Water stress, temperature, and light effects on the capacity for isoprene emission and photosynthesis of kudzu leaves. Oecologia, 95(3), 328-333. doi:10.1007/BF00320984 | 3 | leaves 2 weeks past full extension |\n",
       "| Richard | 1 | photosynthetic co2 assimilation | NA | net photosynthesis rate | NA | 11.743801 | micromol m^-2 s^-1 | NA | NA | ⋯ | NA | NA | NA | 19 | Celsius | NA | NA | Sharkey, T. D., &amp; Loreto, F. (1993). Water stress, temperature, and light effects on the capacity for isoprene emission and photosynthesis of kudzu leaves. Oecologia, 95(3), 328-333. doi:10.1007/BF00320984 | 3 | leaves 2 weeks past full extension |\n",
       "| Richard | 1 | photosynthetic co2 assimilation | NA | net photosynthesis rate | NA | 10.582731 | micromol m^-2 s^-1 | NA | NA | ⋯ | NA | NA | NA | 19 | Celsius | NA | NA | Sharkey, T. D., &amp; Loreto, F. (1993). Water stress, temperature, and light effects on the capacity for isoprene emission and photosynthesis of kudzu leaves. Oecologia, 95(3), 328-333. doi:10.1007/BF00320984 | 3 | leaves 2 weeks past full extension |\n",
       "| Richard | 1 | photosynthetic co2 assimilation | NA | net photosynthesis rate | NA |  6.508309 | micromol m^-2 s^-1 | NA | NA | ⋯ | NA | NA | NA | 19 | Celsius | NA | NA | Sharkey, T. D., &amp; Loreto, F. (1993). Water stress, temperature, and light effects on the capacity for isoprene emission and photosynthesis of kudzu leaves. Oecologia, 95(3), 328-333. doi:10.1007/BF00320984 | 3 | leaves 2 weeks past full extension |\n",
       "| Richard | 1 | photosynthetic co2 assimilation | NA | net photosynthesis rate | NA |  2.664421 | micromol m^-2 s^-1 | NA | NA | ⋯ | NA | NA | NA | 19 | Celsius | NA | NA | Sharkey, T. D., &amp; Loreto, F. (1993). Water stress, temperature, and light effects on the capacity for isoprene emission and photosynthesis of kudzu leaves. Oecologia, 95(3), 328-333. doi:10.1007/BF00320984 | 3 | leaves 2 weeks past full extension |\n",
       "| Richard | 2 | photosynthetic co2 assimilation | NA | net photosynthesis rate | NA | 11.203013 | micromol m^-2 s^-1 | NA | NA | ⋯ | NA | NA | NA | 19 | Celsius | NA | NA | Sharkey, T. D., &amp; Loreto, F. (1993). Water stress, temperature, and light effects on the capacity for isoprene emission and photosynthesis of kudzu leaves. Oecologia, 95(3), 328-333. doi:10.1007/BF00320984 | 3 | leaves 2 weeks past full extension |\n",
       "\n"
      ],
      "text/plain": [
       "  Input   ID OrignalTraitName                OriginalTraitDef\n",
       "1 Richard 1  photosynthetic co2 assimilation NA              \n",
       "2 Richard 1  photosynthetic co2 assimilation NA              \n",
       "3 Richard 1  photosynthetic co2 assimilation NA              \n",
       "4 Richard 1  photosynthetic co2 assimilation NA              \n",
       "5 Richard 1  photosynthetic co2 assimilation NA              \n",
       "6 Richard 2  photosynthetic co2 assimilation NA              \n",
       "  StandardisedTraitName   StandardisedTraitDef OriginalTraitValue\n",
       "1 net photosynthesis rate NA                    9.876141         \n",
       "2 net photosynthesis rate NA                   11.743801         \n",
       "3 net photosynthesis rate NA                   10.582731         \n",
       "4 net photosynthesis rate NA                    6.508309         \n",
       "5 net photosynthesis rate NA                    2.664421         \n",
       "6 net photosynthesis rate NA                   11.203013         \n",
       "  OriginalTraitUnit  OriginalErrorPos OriginalErrorNeg ⋯ AcclimVarTempUnit\n",
       "1 micromol m^-2 s^-1 NA               NA               ⋯ NA               \n",
       "2 micromol m^-2 s^-1 NA               NA               ⋯ NA               \n",
       "3 micromol m^-2 s^-1 NA               NA               ⋯ NA               \n",
       "4 micromol m^-2 s^-1 NA               NA               ⋯ NA               \n",
       "5 micromol m^-2 s^-1 NA               NA               ⋯ NA               \n",
       "6 micromol m^-2 s^-1 NA               NA               ⋯ NA               \n",
       "  AcclimVarTempDur AcclimVarTempDurUnit LabGrowthTemp LabGrowthTempUnit\n",
       "1 NA               NA                   19            Celsius          \n",
       "2 NA               NA                   19            Celsius          \n",
       "3 NA               NA                   19            Celsius          \n",
       "4 NA               NA                   19            Celsius          \n",
       "5 NA               NA                   19            Celsius          \n",
       "6 NA               NA                   19            Celsius          \n",
       "  LabGrowthDur LabGrowthDurUnit\n",
       "1 NA           NA              \n",
       "2 NA           NA              \n",
       "3 NA           NA              \n",
       "4 NA           NA              \n",
       "5 NA           NA              \n",
       "6 NA           NA              \n",
       "  Citation                                                                                                                                                                                                     \n",
       "1 Sharkey, T. D., & Loreto, F. (1993). Water stress, temperature, and light effects on the capacity for isoprene emission and photosynthesis of kudzu leaves. Oecologia, 95(3), 328-333. doi:10.1007/BF00320984\n",
       "2 Sharkey, T. D., & Loreto, F. (1993). Water stress, temperature, and light effects on the capacity for isoprene emission and photosynthesis of kudzu leaves. Oecologia, 95(3), 328-333. doi:10.1007/BF00320984\n",
       "3 Sharkey, T. D., & Loreto, F. (1993). Water stress, temperature, and light effects on the capacity for isoprene emission and photosynthesis of kudzu leaves. Oecologia, 95(3), 328-333. doi:10.1007/BF00320984\n",
       "4 Sharkey, T. D., & Loreto, F. (1993). Water stress, temperature, and light effects on the capacity for isoprene emission and photosynthesis of kudzu leaves. Oecologia, 95(3), 328-333. doi:10.1007/BF00320984\n",
       "5 Sharkey, T. D., & Loreto, F. (1993). Water stress, temperature, and light effects on the capacity for isoprene emission and photosynthesis of kudzu leaves. Oecologia, 95(3), 328-333. doi:10.1007/BF00320984\n",
       "6 Sharkey, T. D., & Loreto, F. (1993). Water stress, temperature, and light effects on the capacity for isoprene emission and photosynthesis of kudzu leaves. Oecologia, 95(3), 328-333. doi:10.1007/BF00320984\n",
       "  FigureTable Notes                             \n",
       "1 3           leaves 2 weeks past full extension\n",
       "2 3           leaves 2 weeks past full extension\n",
       "3 3           leaves 2 weeks past full extension\n",
       "4 3           leaves 2 weeks past full extension\n",
       "5 3           leaves 2 weeks past full extension\n",
       "6 3           leaves 2 weeks past full extension"
      ]
     },
     "metadata": {},
     "output_type": "display_data"
    }
   ],
   "source": [
    "head(thermo_data)"
   ]
  },
  {
   "cell_type": "code",
   "execution_count": null,
   "metadata": {},
   "outputs": [],
   "source": [
    "unique(thermo_data$)"
   ]
  }
 ],
 "metadata": {
  "kernelspec": {
   "display_name": "R 3.6",
   "language": "R",
   "name": "ir36"
  },
  "language_info": {
   "codemirror_mode": "r",
   "file_extension": ".r",
   "mimetype": "text/x-r-source",
   "name": "R",
   "pygments_lexer": "r",
   "version": "3.6.2"
  }
 },
 "nbformat": 4,
 "nbformat_minor": 2
}
